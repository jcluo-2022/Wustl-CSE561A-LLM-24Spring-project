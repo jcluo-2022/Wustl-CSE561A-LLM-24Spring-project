{
 "cells": [
  {
   "cell_type": "markdown",
   "id": "ce13a6b7-9c84-4061-ab14-b066b01f563e",
   "metadata": {},
   "source": [
    "# Reading the Reivews Dataset"
   ]
  },
  {
   "cell_type": "code",
   "execution_count": 1,
   "id": "714519a2-979f-4390-bb06-cea2dbbde64f",
   "metadata": {},
   "outputs": [],
   "source": [
    "import pandas as pd"
   ]
  },
  {
   "cell_type": "code",
   "execution_count": 2,
   "id": "7867e701-751d-4e61-87f0-1cbad6331a5f",
   "metadata": {},
   "outputs": [],
   "source": [
    "# Function to load a .jsonl file\n",
    "def load_jsonl(file_path):\n",
    "    data = []\n",
    "    with open(file_path, 'r', encoding='utf-8') as file:\n",
    "        for line in file:\n",
    "            data.append(json.loads(line.strip()))\n",
    "    return pd.DataFrame(data)\n",
    "\n",
    "# Load the datasets\n",
    "reviews_df = load_jsonl('Subscription_Boxes.jsonl')"
   ]
  },
  {
   "cell_type": "markdown",
   "id": "16892f4c-6120-4567-873a-b2410bef799a",
   "metadata": {},
   "source": [
    "# Data Preprocessing"
   ]
  },
  {
   "cell_type": "markdown",
   "id": "3d67d9cf-4e34-48af-ad03-a82f1fe702ad",
   "metadata": {},
   "source": [
    "## Filter duplicates and not verified review"
   ]
  },
  {
   "cell_type": "code",
   "execution_count": 3,
   "id": "c4b9c3f3-fc8f-46c2-b66a-099fb3315ef4",
   "metadata": {},
   "outputs": [],
   "source": [
    "reviews_df = reviews_df[reviews_df['verified_purchase'] == True] # only keep the review from verified purchase"
   ]
  },
  {
   "cell_type": "code",
   "execution_count": 4,
   "id": "119f2be4-88a6-461c-9d22-08571ae86c83",
   "metadata": {},
   "outputs": [
    {
     "name": "stdout",
     "output_type": "stream",
     "text": [
      "Index(['rating', 'title', 'text', 'images', 'asin', 'parent_asin', 'user_id',\n",
      "       'timestamp', 'helpful_vote', 'verified_purchase'],\n",
      "      dtype='object')\n"
     ]
    }
   ],
   "source": [
    "print(reviews_df.columns)"
   ]
  },
  {
   "cell_type": "markdown",
   "id": "cc3cfc6b-2a1d-4720-9eb8-e9a4da4e7a33",
   "metadata": {},
   "source": [
    "## Concatanate title and review text"
   ]
  },
  {
   "cell_type": "code",
   "execution_count": 1,
   "id": "18cfa1e9-8899-432d-8c82-e03faf2034ec",
   "metadata": {},
   "outputs": [
    {
     "ename": "NameError",
     "evalue": "name 'reviews_df' is not defined",
     "output_type": "error",
     "traceback": [
      "\u001b[1;31m---------------------------------------------------------------------------\u001b[0m",
      "\u001b[1;31mNameError\u001b[0m                                 Traceback (most recent call last)",
      "Cell \u001b[1;32mIn[1], line 4\u001b[0m\n\u001b[0;32m      1\u001b[0m \u001b[38;5;28;01mimport\u001b[39;00m \u001b[38;5;21;01mpandas\u001b[39;00m \u001b[38;5;28;01mas\u001b[39;00m \u001b[38;5;21;01mpd\u001b[39;00m\n\u001b[0;32m      2\u001b[0m \u001b[38;5;28;01mfrom\u001b[39;00m \u001b[38;5;21;01msklearn\u001b[39;00m\u001b[38;5;21;01m.\u001b[39;00m\u001b[38;5;21;01mmodel_selection\u001b[39;00m \u001b[38;5;28;01mimport\u001b[39;00m train_test_split\n\u001b[1;32m----> 4\u001b[0m reviews_df[\u001b[38;5;124m'\u001b[39m\u001b[38;5;124minput\u001b[39m\u001b[38;5;124m'\u001b[39m] \u001b[38;5;241m=\u001b[39m \u001b[43mreviews_df\u001b[49m[\u001b[38;5;124m'\u001b[39m\u001b[38;5;124mtitle\u001b[39m\u001b[38;5;124m'\u001b[39m] \u001b[38;5;241m+\u001b[39m \u001b[38;5;124m\"\u001b[39m\u001b[38;5;124m: \u001b[39m\u001b[38;5;124m\"\u001b[39m \u001b[38;5;241m+\u001b[39m reviews_df[\u001b[38;5;124m'\u001b[39m\u001b[38;5;124mtext\u001b[39m\u001b[38;5;124m'\u001b[39m]\n\u001b[0;32m      5\u001b[0m reviews_df[\u001b[38;5;124m'\u001b[39m\u001b[38;5;124minput\u001b[39m\u001b[38;5;124m'\u001b[39m] \u001b[38;5;241m=\u001b[39m reviews_df[\u001b[38;5;124m'\u001b[39m\u001b[38;5;124minput\u001b[39m\u001b[38;5;124m'\u001b[39m]\u001b[38;5;241m.\u001b[39mstr\u001b[38;5;241m.\u001b[39mstrip()\n\u001b[0;32m      7\u001b[0m \u001b[38;5;66;03m# Drop the rows which has empty content\u001b[39;00m\n",
      "\u001b[1;31mNameError\u001b[0m: name 'reviews_df' is not defined"
     ]
    }
   ],
   "source": [
    "import pandas as pd\n",
    "from sklearn.model_selection import train_test_split\n",
    "\n",
    "reviews_df['input'] = reviews_df['title'] + \": \" + reviews_df['text']\n",
    "reviews_df['input'] = reviews_df['input'].str.strip()\n",
    "\n",
    "# Drop the rows which has empty content\n",
    "reviews_df.dropna(subset=['input'], inplace=True)\n",
    "\n",
    "reviews_df['labels'] = reviews_df['rating']\n",
    "\n",
    "# 选择需要的列\n",
    "data = reviews_df[['input', 'labels']]"
   ]
  },
  {
   "cell_type": "markdown",
   "id": "8d80fff2-892a-4620-8891-42e40b1a6127",
   "metadata": {},
   "source": [
    "## Escape from HTML"
   ]
  },
  {
   "cell_type": "code",
   "execution_count": 6,
   "id": "8ba8a605-3fff-46ce-860f-f7037c52fb81",
   "metadata": {},
   "outputs": [
    {
     "name": "stderr",
     "output_type": "stream",
     "text": [
      "C:\\Users\\丐帮帮主\\AppData\\Local\\Temp\\ipykernel_16528\\742416837.py:5: MarkupResemblesLocatorWarning: The input looks more like a filename than markup. You may want to open this file and pass the filehandle into Beautiful Soup.\n",
      "  soup = BeautifulSoup(content, \"lxml\")  # 使用 lxml 作为解析器\n"
     ]
    },
    {
     "name": "stdout",
     "output_type": "stream",
     "text": [
      "                                               input  \\\n",
      "0  USELESS: Absolutely useless nonsense and a com...   \n",
      "1  Manufactured where?: With a couple of the item...   \n",
      "2  Little bang for your buck.: Two SMALL stuffed ...   \n",
      "3  New favorite box: Although I don’t remember si...   \n",
      "4  Coctique: I loved every thing and could use it...   \n",
      "\n",
      "                                         input_clean  \n",
      "0  USELESS: Absolutely useless nonsense and a com...  \n",
      "1  Manufactured where?: With a couple of the item...  \n",
      "2  Little bang for your buck.: Two SMALL stuffed ...  \n",
      "3  New favorite box: Although I don’t remember si...  \n",
      "4  Coctique: I loved every thing and could use it...  \n"
     ]
    },
    {
     "name": "stderr",
     "output_type": "stream",
     "text": [
      "C:\\Users\\丐帮帮主\\AppData\\Local\\Temp\\ipykernel_16528\\742416837.py:9: SettingWithCopyWarning: \n",
      "A value is trying to be set on a copy of a slice from a DataFrame.\n",
      "Try using .loc[row_indexer,col_indexer] = value instead\n",
      "\n",
      "See the caveats in the documentation: https://pandas.pydata.org/pandas-docs/stable/user_guide/indexing.html#returning-a-view-versus-a-copy\n",
      "  data.loc[:, 'input_clean'] = data['input'].apply(remove_html)\n"
     ]
    }
   ],
   "source": [
    "from bs4 import BeautifulSoup\n",
    "\n",
    "# Define a function to remove html tag\n",
    "def remove_html(content):\n",
    "    soup = BeautifulSoup(content, \"lxml\")  # 使用 lxml 作为解析器\n",
    "    return soup.get_text()\n",
    "\n",
    "# 应用这个函数到 'input' 列\n",
    "data.loc[:, 'input_clean'] = data['input'].apply(remove_html)\n",
    "\n",
    "# 查看结果\n",
    "print(data[['input', 'input_clean']].head())"
   ]
  },
  {
   "cell_type": "code",
   "execution_count": 7,
   "id": "fdb16cf9-87ef-4cce-8570-4a32c9813a86",
   "metadata": {},
   "outputs": [
    {
     "name": "stderr",
     "output_type": "stream",
     "text": [
      "C:\\Users\\丐帮帮主\\AppData\\Local\\Temp\\ipykernel_16528\\2280244472.py:4: MarkupResemblesLocatorWarning: The input looks more like a filename than markup. You may want to open this file and pass the filehandle into Beautiful Soup.\n",
      "  soup = BeautifulSoup(content, \"lxml\")\n"
     ]
    },
    {
     "name": "stdout",
     "output_type": "stream",
     "text": [
      "                                               input  \\\n",
      "0  USELESS: Absolutely useless nonsense and a com...   \n",
      "1  Manufactured where?: With a couple of the item...   \n",
      "2  Little bang for your buck.: Two SMALL stuffed ...   \n",
      "3  New favorite box: Although I don’t remember si...   \n",
      "4  Coctique: I loved every thing and could use it...   \n",
      "\n",
      "                                         input_clean  \n",
      "0  USELESS: Absolutely useless nonsense and a com...  \n",
      "1  Manufactured where?: With a couple of the item...  \n",
      "2  Little bang for your buck.: Two SMALL stuffed ...  \n",
      "3  New favorite box: Although I don’t remember si...  \n",
      "4  Coctique: I loved every thing and could use it...  \n"
     ]
    }
   ],
   "source": [
    "import html\n",
    "\n",
    "def remove_html_and_decode(content):\n",
    "    soup = BeautifulSoup(content, \"lxml\")\n",
    "    text = soup.get_text()\n",
    "    return html.unescape(text)\n",
    "\n",
    "# 应用改进的函数去除 HTML 和解码 HTML 实体\n",
    "data.loc[:, 'input_clean'] = data['input_clean'].apply(remove_html_and_decode)\n",
    "\n",
    "# 查看结果\n",
    "print(data[['input', 'input_clean']].head())"
   ]
  },
  {
   "cell_type": "code",
   "execution_count": 8,
   "id": "5ad1b8f8-b654-4ba0-aa8d-6610683e9f8e",
   "metadata": {},
   "outputs": [
    {
     "name": "stdout",
     "output_type": "stream",
     "text": [
      "   labels                                              input\n",
      "0       0  USELESS: Absolutely useless nonsense and a com...\n",
      "1       1  Manufactured where?: With a couple of the item...\n",
      "2       0  Little bang for your buck.: Two SMALL stuffed ...\n",
      "3       4  New favorite box: Although I don’t remember si...\n",
      "4       4  Coctique: I loved every thing and could use it...\n"
     ]
    },
    {
     "name": "stderr",
     "output_type": "stream",
     "text": [
      "C:\\Users\\丐帮帮主\\AppData\\Local\\Temp\\ipykernel_16528\\2557058730.py:2: SettingWithCopyWarning: \n",
      "A value is trying to be set on a copy of a slice from a DataFrame\n",
      "\n",
      "See the caveats in the documentation: https://pandas.pydata.org/pandas-docs/stable/user_guide/indexing.html#returning-a-view-versus-a-copy\n",
      "  data.drop('input', axis=1, inplace=True)\n",
      "C:\\Users\\丐帮帮主\\AppData\\Local\\Temp\\ipykernel_16528\\2557058730.py:3: SettingWithCopyWarning: \n",
      "A value is trying to be set on a copy of a slice from a DataFrame.\n",
      "Try using .loc[row_indexer,col_indexer] = value instead\n",
      "\n",
      "See the caveats in the documentation: https://pandas.pydata.org/pandas-docs/stable/user_guide/indexing.html#returning-a-view-versus-a-copy\n",
      "  data['labels'] = data['labels'].astype(int)\n",
      "C:\\Users\\丐帮帮主\\AppData\\Local\\Temp\\ipykernel_16528\\2557058730.py:4: SettingWithCopyWarning: \n",
      "A value is trying to be set on a copy of a slice from a DataFrame.\n",
      "Try using .loc[row_indexer,col_indexer] = value instead\n",
      "\n",
      "See the caveats in the documentation: https://pandas.pydata.org/pandas-docs/stable/user_guide/indexing.html#returning-a-view-versus-a-copy\n",
      "  data['labels'] = data['labels'] -1\n",
      "C:\\Users\\丐帮帮主\\AppData\\Local\\Temp\\ipykernel_16528\\2557058730.py:6: SettingWithCopyWarning: \n",
      "A value is trying to be set on a copy of a slice from a DataFrame\n",
      "\n",
      "See the caveats in the documentation: https://pandas.pydata.org/pandas-docs/stable/user_guide/indexing.html#returning-a-view-versus-a-copy\n",
      "  data.rename(columns={'input_clean': 'input'}, inplace=True)\n",
      "C:\\Users\\丐帮帮主\\AppData\\Local\\Temp\\ipykernel_16528\\2557058730.py:7: SettingWithCopyWarning: \n",
      "A value is trying to be set on a copy of a slice from a DataFrame\n",
      "\n",
      "See the caveats in the documentation: https://pandas.pydata.org/pandas-docs/stable/user_guide/indexing.html#returning-a-view-versus-a-copy\n",
      "  data.dropna(subset=['input'], inplace=True)\n"
     ]
    }
   ],
   "source": [
    "# 删除原始的 'input' 列\n",
    "data.drop('input', axis=1, inplace=True)\n",
    "data['labels'] = data['labels'].astype(int)\n",
    "data['labels'] = data['labels'] -1\n",
    "# 重命名 'input_clean' 列为 'input'\n",
    "data.rename(columns={'input_clean': 'input'}, inplace=True)\n",
    "data.dropna(subset=['input'], inplace=True)\n",
    "# 查看结果\n",
    "print(data.head())"
   ]
  },
  {
   "cell_type": "markdown",
   "id": "d123de97-6cbb-40e3-b246-e1fedc7dcad1",
   "metadata": {},
   "source": [
    "# Split data into training, validation, test 3 parts"
   ]
  },
  {
   "cell_type": "code",
   "execution_count": 9,
   "id": "e4a2c30d-2324-47dd-9948-b3c7480e9def",
   "metadata": {},
   "outputs": [],
   "source": [
    "# 分割数据集：先分割出60%的训练数据\n",
    "train_data, temp_data = train_test_split(data, test_size=0.4, random_state=42)\n",
    "\n",
    "# 再从剩余的40%中分割出50%验证数据和50%测试数据\n",
    "validation_data, test_data = train_test_split(temp_data, test_size=0.5, random_state=42)\n",
    "\n",
    "# 保存为CSV文件\n",
    "train_data.to_csv('train_data.csv', index=False)\n",
    "validation_data.to_csv('validation_data.csv', index=False)\n",
    "test_data.to_csv('test_data.csv', index=False)"
   ]
  }
 ],
 "metadata": {
  "kernelspec": {
   "display_name": "cse561",
   "language": "python",
   "name": "cse561"
  },
  "language_info": {
   "codemirror_mode": {
    "name": "ipython",
    "version": 3
   },
   "file_extension": ".py",
   "mimetype": "text/x-python",
   "name": "python",
   "nbconvert_exporter": "python",
   "pygments_lexer": "ipython3",
   "version": "3.9.18"
  }
 },
 "nbformat": 4,
 "nbformat_minor": 5
}
