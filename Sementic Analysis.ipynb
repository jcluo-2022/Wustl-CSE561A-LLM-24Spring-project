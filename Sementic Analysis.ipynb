{
 "cells": [
  {
   "cell_type": "markdown",
   "id": "ce13a6b7-9c84-4061-ab14-b066b01f563e",
   "metadata": {},
   "source": [
    "# Reading the Reivews and the Product Medatdata Dataset"
   ]
  },
  {
   "cell_type": "code",
   "execution_count": 1,
   "id": "714519a2-979f-4390-bb06-cea2dbbde64f",
   "metadata": {},
   "outputs": [],
   "source": [
    "import pandas as pd"
   ]
  },
  {
   "cell_type": "code",
   "execution_count": 2,
   "id": "7867e701-751d-4e61-87f0-1cbad6331a5f",
   "metadata": {},
   "outputs": [],
   "source": [
    "# Function to load a .jsonl file\n",
    "def load_jsonl(file_path):\n",
    "    data = []\n",
    "    with open(file_path, 'r', encoding='utf-8') as file:\n",
    "        for line in file:\n",
    "            data.append(json.loads(line.strip()))\n",
    "    return pd.DataFrame(data)\n",
    "\n",
    "# Load the datasets\n",
    "reviews_df = load_jsonl('Subscription_Boxes.jsonl')"
   ]
  },
  {
   "cell_type": "markdown",
   "id": "16892f4c-6120-4567-873a-b2410bef799a",
   "metadata": {},
   "source": [
    "# Data Preprocessing"
   ]
  },
  {
   "cell_type": "markdown",
   "id": "3d67d9cf-4e34-48af-ad03-a82f1fe702ad",
   "metadata": {},
   "source": [
    "## Filter duplicates and not verified review"
   ]
  },
  {
   "cell_type": "code",
   "execution_count": 3,
   "id": "c4b9c3f3-fc8f-46c2-b66a-099fb3315ef4",
   "metadata": {},
   "outputs": [],
   "source": [
    "reviews_df = reviews_df[reviews_df['verified_purchase'] == True] # only keep the review from verified purchase"
   ]
  },
  {
   "cell_type": "code",
   "execution_count": 4,
   "id": "119f2be4-88a6-461c-9d22-08571ae86c83",
   "metadata": {},
   "outputs": [
    {
     "name": "stdout",
     "output_type": "stream",
     "text": [
      "Index(['rating', 'title', 'text', 'images', 'asin', 'parent_asin', 'user_id',\n",
      "       'timestamp', 'helpful_vote', 'verified_purchase'],\n",
      "      dtype='object')\n"
     ]
    }
   ],
   "source": [
    "print(reviews_df.columns)"
   ]
  },
  {
   "cell_type": "markdown",
   "id": "cc3cfc6b-2a1d-4720-9eb8-e9a4da4e7a33",
   "metadata": {},
   "source": [
    "## Join the two datasets togather by parent_asin"
   ]
  },
  {
   "cell_type": "code",
   "execution_count": 5,
   "id": "18cfa1e9-8899-432d-8c82-e03faf2034ec",
   "metadata": {},
   "outputs": [],
   "source": [
    "import pandas as pd\n",
    "from sklearn.model_selection import train_test_split\n",
    "\n",
    "reviews_df['input'] = reviews_df['title'] + \": \" + reviews_df['text']\n",
    "reviews_df['input'] = reviews_df['input'].str.strip()\n",
    "\n",
    "# 删除那些 input 为空的行\n",
    "reviews_df.dropna(subset=['input'], inplace=True)\n",
    "\n",
    "reviews_df['labels'] = reviews_df['rating']\n",
    "\n",
    "# 选择需要的列\n",
    "data = reviews_df[['input', 'labels']]"
   ]
  },
  {
   "cell_type": "code",
   "execution_count": 6,
   "id": "8ba8a605-3fff-46ce-860f-f7037c52fb81",
   "metadata": {},
   "outputs": [
    {
     "name": "stderr",
     "output_type": "stream",
     "text": [
      "C:\\Users\\丐帮帮主\\AppData\\Local\\Temp\\ipykernel_16528\\742416837.py:5: MarkupResemblesLocatorWarning: The input looks more like a filename than markup. You may want to open this file and pass the filehandle into Beautiful Soup.\n",
      "  soup = BeautifulSoup(content, \"lxml\")  # 使用 lxml 作为解析器\n"
     ]
    },
    {
     "name": "stdout",
     "output_type": "stream",
     "text": [
      "                                               input  \\\n",
      "0  USELESS: Absolutely useless nonsense and a com...   \n",
      "1  Manufactured where?: With a couple of the item...   \n",
      "2  Little bang for your buck.: Two SMALL stuffed ...   \n",
      "3  New favorite box: Although I don’t remember si...   \n",
      "4  Coctique: I loved every thing and could use it...   \n",
      "\n",
      "                                         input_clean  \n",
      "0  USELESS: Absolutely useless nonsense and a com...  \n",
      "1  Manufactured where?: With a couple of the item...  \n",
      "2  Little bang for your buck.: Two SMALL stuffed ...  \n",
      "3  New favorite box: Although I don’t remember si...  \n",
      "4  Coctique: I loved every thing and could use it...  \n"
     ]
    },
    {
     "name": "stderr",
     "output_type": "stream",
     "text": [
      "C:\\Users\\丐帮帮主\\AppData\\Local\\Temp\\ipykernel_16528\\742416837.py:9: SettingWithCopyWarning: \n",
      "A value is trying to be set on a copy of a slice from a DataFrame.\n",
      "Try using .loc[row_indexer,col_indexer] = value instead\n",
      "\n",
      "See the caveats in the documentation: https://pandas.pydata.org/pandas-docs/stable/user_guide/indexing.html#returning-a-view-versus-a-copy\n",
      "  data.loc[:, 'input_clean'] = data['input'].apply(remove_html)\n"
     ]
    }
   ],
   "source": [
    "from bs4 import BeautifulSoup\n",
    "\n",
    "# 定义一个函数来去除 HTML\n",
    "def remove_html(content):\n",
    "    soup = BeautifulSoup(content, \"lxml\")  # 使用 lxml 作为解析器\n",
    "    return soup.get_text()\n",
    "\n",
    "# 应用这个函数到 'input' 列\n",
    "data.loc[:, 'input_clean'] = data['input'].apply(remove_html)\n",
    "\n",
    "# 查看结果\n",
    "print(data[['input', 'input_clean']].head())"
   ]
  },
  {
   "cell_type": "code",
   "execution_count": 7,
   "id": "fdb16cf9-87ef-4cce-8570-4a32c9813a86",
   "metadata": {},
   "outputs": [
    {
     "name": "stderr",
     "output_type": "stream",
     "text": [
      "C:\\Users\\丐帮帮主\\AppData\\Local\\Temp\\ipykernel_16528\\2280244472.py:4: MarkupResemblesLocatorWarning: The input looks more like a filename than markup. You may want to open this file and pass the filehandle into Beautiful Soup.\n",
      "  soup = BeautifulSoup(content, \"lxml\")\n"
     ]
    },
    {
     "name": "stdout",
     "output_type": "stream",
     "text": [
      "                                               input  \\\n",
      "0  USELESS: Absolutely useless nonsense and a com...   \n",
      "1  Manufactured where?: With a couple of the item...   \n",
      "2  Little bang for your buck.: Two SMALL stuffed ...   \n",
      "3  New favorite box: Although I don’t remember si...   \n",
      "4  Coctique: I loved every thing and could use it...   \n",
      "\n",
      "                                         input_clean  \n",
      "0  USELESS: Absolutely useless nonsense and a com...  \n",
      "1  Manufactured where?: With a couple of the item...  \n",
      "2  Little bang for your buck.: Two SMALL stuffed ...  \n",
      "3  New favorite box: Although I don’t remember si...  \n",
      "4  Coctique: I loved every thing and could use it...  \n"
     ]
    }
   ],
   "source": [
    "import html\n",
    "\n",
    "def remove_html_and_decode(content):\n",
    "    soup = BeautifulSoup(content, \"lxml\")\n",
    "    text = soup.get_text()\n",
    "    return html.unescape(text)\n",
    "\n",
    "# 应用改进的函数去除 HTML 和解码 HTML 实体\n",
    "data.loc[:, 'input_clean'] = data['input_clean'].apply(remove_html_and_decode)\n",
    "\n",
    "# 查看结果\n",
    "print(data[['input', 'input_clean']].head())"
   ]
  },
  {
   "cell_type": "code",
   "execution_count": 8,
   "id": "5ad1b8f8-b654-4ba0-aa8d-6610683e9f8e",
   "metadata": {},
   "outputs": [
    {
     "name": "stdout",
     "output_type": "stream",
     "text": [
      "   labels                                              input\n",
      "0       0  USELESS: Absolutely useless nonsense and a com...\n",
      "1       1  Manufactured where?: With a couple of the item...\n",
      "2       0  Little bang for your buck.: Two SMALL stuffed ...\n",
      "3       4  New favorite box: Although I don’t remember si...\n",
      "4       4  Coctique: I loved every thing and could use it...\n"
     ]
    },
    {
     "name": "stderr",
     "output_type": "stream",
     "text": [
      "C:\\Users\\丐帮帮主\\AppData\\Local\\Temp\\ipykernel_16528\\2557058730.py:2: SettingWithCopyWarning: \n",
      "A value is trying to be set on a copy of a slice from a DataFrame\n",
      "\n",
      "See the caveats in the documentation: https://pandas.pydata.org/pandas-docs/stable/user_guide/indexing.html#returning-a-view-versus-a-copy\n",
      "  data.drop('input', axis=1, inplace=True)\n",
      "C:\\Users\\丐帮帮主\\AppData\\Local\\Temp\\ipykernel_16528\\2557058730.py:3: SettingWithCopyWarning: \n",
      "A value is trying to be set on a copy of a slice from a DataFrame.\n",
      "Try using .loc[row_indexer,col_indexer] = value instead\n",
      "\n",
      "See the caveats in the documentation: https://pandas.pydata.org/pandas-docs/stable/user_guide/indexing.html#returning-a-view-versus-a-copy\n",
      "  data['labels'] = data['labels'].astype(int)\n",
      "C:\\Users\\丐帮帮主\\AppData\\Local\\Temp\\ipykernel_16528\\2557058730.py:4: SettingWithCopyWarning: \n",
      "A value is trying to be set on a copy of a slice from a DataFrame.\n",
      "Try using .loc[row_indexer,col_indexer] = value instead\n",
      "\n",
      "See the caveats in the documentation: https://pandas.pydata.org/pandas-docs/stable/user_guide/indexing.html#returning-a-view-versus-a-copy\n",
      "  data['labels'] = data['labels'] -1\n",
      "C:\\Users\\丐帮帮主\\AppData\\Local\\Temp\\ipykernel_16528\\2557058730.py:6: SettingWithCopyWarning: \n",
      "A value is trying to be set on a copy of a slice from a DataFrame\n",
      "\n",
      "See the caveats in the documentation: https://pandas.pydata.org/pandas-docs/stable/user_guide/indexing.html#returning-a-view-versus-a-copy\n",
      "  data.rename(columns={'input_clean': 'input'}, inplace=True)\n",
      "C:\\Users\\丐帮帮主\\AppData\\Local\\Temp\\ipykernel_16528\\2557058730.py:7: SettingWithCopyWarning: \n",
      "A value is trying to be set on a copy of a slice from a DataFrame\n",
      "\n",
      "See the caveats in the documentation: https://pandas.pydata.org/pandas-docs/stable/user_guide/indexing.html#returning-a-view-versus-a-copy\n",
      "  data.dropna(subset=['input'], inplace=True)\n"
     ]
    }
   ],
   "source": [
    "# 删除原始的 'input' 列\n",
    "data.drop('input', axis=1, inplace=True)\n",
    "data['labels'] = data['labels'].astype(int)\n",
    "data['labels'] = data['labels'] -1\n",
    "# 重命名 'input_clean' 列为 'input'\n",
    "data.rename(columns={'input_clean': 'input'}, inplace=True)\n",
    "data.dropna(subset=['input'], inplace=True)\n",
    "# 查看结果\n",
    "print(data.head())"
   ]
  },
  {
   "cell_type": "code",
   "execution_count": 9,
   "id": "e4a2c30d-2324-47dd-9948-b3c7480e9def",
   "metadata": {},
   "outputs": [],
   "source": [
    "# 分割数据集：先分割出60%的训练数据\n",
    "train_data, temp_data = train_test_split(data, test_size=0.4, random_state=42)\n",
    "\n",
    "# 再从剩余的40%中分割出50%验证数据和50%测试数据\n",
    "validation_data, test_data = train_test_split(temp_data, test_size=0.5, random_state=42)\n",
    "\n",
    "# 保存为CSV文件\n",
    "train_data.to_csv('train_data.csv', index=False)\n",
    "validation_data.to_csv('validation_data.csv', index=False)\n",
    "test_data.to_csv('test_data.csv', index=False)"
   ]
  },
  {
   "cell_type": "markdown",
   "id": "fb4b425f-bc23-43ad-af1f-429223e373a3",
   "metadata": {},
   "source": [
    "# Fine Tuning"
   ]
  },
  {
   "cell_type": "code",
   "execution_count": 10,
   "id": "d173f79a-761b-4964-8479-ccef9f53132e",
   "metadata": {},
   "outputs": [
    {
     "name": "stdout",
     "output_type": "stream",
     "text": [
      "   labels                                              input\n",
      "0       3  Lots of fun stuff!: This box was stuffed full ...\n",
      "1       4  Where is the link to subscribe for 8-13?: We l...\n",
      "2       4  Worth it!: Loved everything in there, definite...\n",
      "3       4                Educational!: My grandkids love it!\n",
      "4       4  Great small company to support: I love these b...\n"
     ]
    }
   ],
   "source": [
    "import pandas as pd\n",
    "\n",
    "train_data = pd.read_csv('train_data.csv')\n",
    "validation_data = pd.read_csv('validation_data.csv')\n",
    "test_data = pd.read_csv('test_data.csv')\n",
    "print(train_data.head())"
   ]
  },
  {
   "cell_type": "code",
   "execution_count": 11,
   "id": "04d6aa39-a614-4df4-8948-9cc7e176f429",
   "metadata": {},
   "outputs": [
    {
     "name": "stdout",
     "output_type": "stream",
     "text": [
      "labels     int64\n",
      "input     object\n",
      "dtype: object\n"
     ]
    }
   ],
   "source": [
    "print(train_data.dtypes)"
   ]
  },
  {
   "cell_type": "code",
   "execution_count": 12,
   "id": "2098bf25-7f8b-4b65-9f54-dd8893b8afba",
   "metadata": {},
   "outputs": [],
   "source": [
    "from datasets import Dataset\n",
    "\n",
    "train_dataset = Dataset.from_pandas(train_data)\n",
    "val_dataset = Dataset.from_pandas(validation_data)\n",
    "test_dataset = Dataset.from_pandas(test_data)"
   ]
  },
  {
   "cell_type": "code",
   "execution_count": 13,
   "id": "373b2ffe-be4b-4220-b804-932715269ccb",
   "metadata": {},
   "outputs": [
    {
     "data": {
      "application/vnd.jupyter.widget-view+json": {
       "model_id": "f75c4a663cdc4e33acf4ec0fc77ab35f",
       "version_major": 2,
       "version_minor": 0
      },
      "text/plain": [
       "Map:   0%|          | 0/8557 [00:00<?, ? examples/s]"
      ]
     },
     "metadata": {},
     "output_type": "display_data"
    },
    {
     "data": {
      "application/vnd.jupyter.widget-view+json": {
       "model_id": "7ba476f239dc4680b5674a84551a98a6",
       "version_major": 2,
       "version_minor": 0
      },
      "text/plain": [
       "Map:   0%|          | 0/2852 [00:00<?, ? examples/s]"
      ]
     },
     "metadata": {},
     "output_type": "display_data"
    },
    {
     "data": {
      "application/vnd.jupyter.widget-view+json": {
       "model_id": "5e7903d12b4945b9b60b2b628d9b07bc",
       "version_major": 2,
       "version_minor": 0
      },
      "text/plain": [
       "Map:   0%|          | 0/2853 [00:00<?, ? examples/s]"
      ]
     },
     "metadata": {},
     "output_type": "display_data"
    }
   ],
   "source": [
    "from transformers import AutoTokenizer\n",
    "\n",
    "tokenizer = AutoTokenizer.from_pretrained(\"vinai/bertweet-base\")\n",
    "\n",
    "def preprocess_function(examples):\n",
    "    return tokenizer(examples['input'], truncation=True, padding='max_length', max_length=128)\n",
    "\n",
    "train_dataset = train_dataset.map(preprocess_function, batched=True)\n",
    "val_dataset = val_dataset.map(preprocess_function, batched=True)\n",
    "test_dataset = test_dataset.map(preprocess_function, batched=True)"
   ]
  },
  {
   "cell_type": "code",
   "execution_count": 14,
   "id": "8253c022-7340-43a4-8a0b-a658c670bd90",
   "metadata": {},
   "outputs": [
    {
     "name": "stderr",
     "output_type": "stream",
     "text": [
      "Some weights of RobertaForSequenceClassification were not initialized from the model checkpoint at vinai/bertweet-base and are newly initialized: ['classifier.dense.bias', 'classifier.dense.weight', 'classifier.out_proj.bias', 'classifier.out_proj.weight']\n",
      "You should probably TRAIN this model on a down-stream task to be able to use it for predictions and inference.\n"
     ]
    }
   ],
   "source": [
    "from transformers import AutoModelForSequenceClassification\n",
    "\n",
    "num_labels = len(train_data['labels'].unique())\n",
    "from transformers import AutoModelForSequenceClassification\n",
    "\n",
    "model = AutoModelForSequenceClassification.from_pretrained(\"vinai/bertweet-base\", num_labels=num_labels, problem_type=\"single_label_classification\")"
   ]
  },
  {
   "cell_type": "code",
   "execution_count": 15,
   "id": "ab1e83ba-77b9-4e9b-83e3-26487287fbd6",
   "metadata": {},
   "outputs": [
    {
     "name": "stdout",
     "output_type": "stream",
     "text": [
      "5\n"
     ]
    }
   ],
   "source": [
    "print(num_labels)"
   ]
  },
  {
   "cell_type": "code",
   "execution_count": 16,
   "id": "31d78a42-5e57-4ac3-8403-2eee04df8e4d",
   "metadata": {},
   "outputs": [],
   "source": [
    "import numpy as np\n",
    "import os\n",
    "os.environ['CUDA_LAUNCH_BLOCKING'] = \"1\"\n",
    "np.object = object\n",
    "np.bool = bool\n",
    "np.int = int\n",
    "from transformers import Trainer, TrainingArguments\n",
    "training_args = TrainingArguments(\n",
    "    output_dir='./results',          # 输出目录保存模型和日志\n",
    "    evaluation_strategy=\"epoch\",     # 每个 epoch 完成后进行评估\n",
    "    learning_rate=2e-5,\n",
    "    per_device_train_batch_size=16,\n",
    "    per_device_eval_batch_size=16,\n",
    "    num_train_epochs=3,\n",
    "    weight_decay=0.01,\n",
    "    save_strategy=\"epoch\",\n",
    "    load_best_model_at_end=True      # 训练结束时加载最佳模型\n",
    ")\n",
    "\n",
    "def compute_metrics(eval_pred):\n",
    "    logits, labels = eval_pred\n",
    "    predictions = np.argmax(logits, axis=-1)\n",
    "    return {'accuracy': (predictions == labels).mean()}\n",
    "    \n",
    "trainer = Trainer(\n",
    "    model=model,\n",
    "    args=training_args,\n",
    "    train_dataset=train_dataset,\n",
    "    eval_dataset=val_dataset,\n",
    "    compute_metrics=compute_metrics\n",
    ")\n"
   ]
  },
  {
   "cell_type": "code",
   "execution_count": 17,
   "id": "bdf9e99d-964c-46da-88de-6bd162cf81cc",
   "metadata": {},
   "outputs": [
    {
     "data": {
      "text/html": [
       "\n",
       "    <div>\n",
       "      \n",
       "      <progress value='1605' max='1605' style='width:300px; height:20px; vertical-align: middle;'></progress>\n",
       "      [1605/1605 10:51, Epoch 3/3]\n",
       "    </div>\n",
       "    <table border=\"1\" class=\"dataframe\">\n",
       "  <thead>\n",
       " <tr style=\"text-align: left;\">\n",
       "      <th>Epoch</th>\n",
       "      <th>Training Loss</th>\n",
       "      <th>Validation Loss</th>\n",
       "      <th>Accuracy</th>\n",
       "    </tr>\n",
       "  </thead>\n",
       "  <tbody>\n",
       "    <tr>\n",
       "      <td>1</td>\n",
       "      <td>0.844200</td>\n",
       "      <td>0.715440</td>\n",
       "      <td>0.721599</td>\n",
       "    </tr>\n",
       "    <tr>\n",
       "      <td>2</td>\n",
       "      <td>0.645400</td>\n",
       "      <td>0.712754</td>\n",
       "      <td>0.724053</td>\n",
       "    </tr>\n",
       "    <tr>\n",
       "      <td>3</td>\n",
       "      <td>0.559500</td>\n",
       "      <td>0.732085</td>\n",
       "      <td>0.725456</td>\n",
       "    </tr>\n",
       "  </tbody>\n",
       "</table><p>"
      ],
      "text/plain": [
       "<IPython.core.display.HTML object>"
      ]
     },
     "metadata": {},
     "output_type": "display_data"
    },
    {
     "data": {
      "text/plain": [
       "TrainOutput(global_step=1605, training_loss=0.6729126356843848, metrics={'train_runtime': 653.1052, 'train_samples_per_second': 39.306, 'train_steps_per_second': 2.457, 'total_flos': 1688626458798336.0, 'train_loss': 0.6729126356843848, 'epoch': 3.0})"
      ]
     },
     "execution_count": 17,
     "metadata": {},
     "output_type": "execute_result"
    }
   ],
   "source": [
    "trainer.train()"
   ]
  },
  {
   "cell_type": "code",
   "execution_count": 18,
   "id": "763ca6ba-254d-4096-976e-ac334ffd774e",
   "metadata": {},
   "outputs": [
    {
     "data": {
      "text/html": [
       "\n",
       "    <div>\n",
       "      \n",
       "      <progress value='179' max='179' style='width:300px; height:20px; vertical-align: middle;'></progress>\n",
       "      [179/179 00:20]\n",
       "    </div>\n",
       "    "
      ],
      "text/plain": [
       "<IPython.core.display.HTML object>"
      ]
     },
     "metadata": {},
     "output_type": "display_data"
    },
    {
     "name": "stdout",
     "output_type": "stream",
     "text": [
      "{'eval_loss': 0.6793504953384399, 'eval_accuracy': 0.7315106905012267, 'eval_runtime': 20.752, 'eval_samples_per_second': 137.481, 'eval_steps_per_second': 8.626, 'epoch': 3.0}\n"
     ]
    }
   ],
   "source": [
    "results = trainer.evaluate(test_dataset)\n",
    "print(results)"
   ]
  },
  {
   "cell_type": "code",
   "execution_count": null,
   "id": "e2c64ed6-1282-4bad-89fb-a90bc79ee103",
   "metadata": {},
   "outputs": [],
   "source": []
  },
  {
   "cell_type": "code",
   "execution_count": null,
   "id": "12f6c2bd-6501-456e-b463-455764e8e658",
   "metadata": {},
   "outputs": [],
   "source": []
  },
  {
   "cell_type": "code",
   "execution_count": null,
   "id": "862fee32-212c-4a33-abab-7d67cf2ca6d4",
   "metadata": {},
   "outputs": [],
   "source": []
  },
  {
   "cell_type": "code",
   "execution_count": null,
   "id": "2fe96277-6298-4e85-9f94-1e6fde33929a",
   "metadata": {},
   "outputs": [],
   "source": []
  },
  {
   "cell_type": "code",
   "execution_count": null,
   "id": "efbde3b0-f92d-4ce5-b159-5ef2b64d06ce",
   "metadata": {},
   "outputs": [],
   "source": []
  },
  {
   "cell_type": "code",
   "execution_count": null,
   "id": "33395418-3f4b-460b-8b60-25a3044503e8",
   "metadata": {},
   "outputs": [],
   "source": []
  },
  {
   "cell_type": "code",
   "execution_count": null,
   "id": "5c505b2d-9f42-4031-8968-c3625ef7d709",
   "metadata": {},
   "outputs": [],
   "source": []
  },
  {
   "cell_type": "code",
   "execution_count": null,
   "id": "4e4a8ed3-7f9b-4a9c-b78c-0388218e20e3",
   "metadata": {},
   "outputs": [],
   "source": []
  },
  {
   "cell_type": "code",
   "execution_count": null,
   "id": "e0522c2d-34a4-4fd8-ac49-eb0728b622f5",
   "metadata": {},
   "outputs": [],
   "source": []
  },
  {
   "cell_type": "code",
   "execution_count": null,
   "id": "edf7bb98-abf2-40ea-bdc6-76c8077e1956",
   "metadata": {},
   "outputs": [],
   "source": []
  },
  {
   "cell_type": "code",
   "execution_count": null,
   "id": "5337ac69-fcaf-4bc1-8522-087fff7c8a4f",
   "metadata": {},
   "outputs": [],
   "source": []
  },
  {
   "cell_type": "code",
   "execution_count": null,
   "id": "ddab4fdd-b3ef-440f-ae34-e8902567c946",
   "metadata": {},
   "outputs": [],
   "source": []
  },
  {
   "cell_type": "code",
   "execution_count": null,
   "id": "2ac70ec6-a850-4797-b40a-53988a2bcbdf",
   "metadata": {},
   "outputs": [],
   "source": []
  }
 ],
 "metadata": {
  "kernelspec": {
   "display_name": "cse561",
   "language": "python",
   "name": "cse561"
  },
  "language_info": {
   "codemirror_mode": {
    "name": "ipython",
    "version": 3
   },
   "file_extension": ".py",
   "mimetype": "text/x-python",
   "name": "python",
   "nbconvert_exporter": "python",
   "pygments_lexer": "ipython3",
   "version": "3.9.18"
  }
 },
 "nbformat": 4,
 "nbformat_minor": 5
}
